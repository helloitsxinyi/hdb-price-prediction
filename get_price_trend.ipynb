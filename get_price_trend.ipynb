{
 "cells": [
  {
   "cell_type": "code",
   "execution_count": 1,
   "outputs": [],
   "source": [
    "import pandas as pd"
   ],
   "metadata": {
    "collapsed": false,
    "pycharm": {
     "name": "#%%\n"
    }
   }
  },
  {
   "cell_type": "code",
   "execution_count": 3,
   "outputs": [
    {
     "data": {
      "text/plain": "             town  flat_type  flat_model  floor_area_sqm          street_name  \\\n0       SERANGOON  EXECUTIVE  Maisonette           152.0  SERANGOON NTH AVE 4   \n1       SERANGOON  EXECUTIVE  Maisonette           152.0  SERANGOON NTH AVE 4   \n2       SERANGOON  EXECUTIVE  Maisonette           154.0       SERANGOON CTRL   \n3        TAMPINES     3 ROOM  Simplified            64.0       TAMPINES ST 83   \n4        TAMPINES     3 ROOM  Simplified            64.0       TAMPINES ST 44   \n...           ...        ...         ...             ...                  ...   \n130092     YISHUN  EXECUTIVE  Maisonette           146.0         YISHUN ST 22   \n130093     YISHUN  EXECUTIVE  Maisonette           146.0         YISHUN ST 61   \n130094     YISHUN  EXECUTIVE   Apartment           145.0         YISHUN ST 71   \n130095     YISHUN  EXECUTIVE  Maisonette           146.0         YISHUN ST 71   \n130096     YISHUN  EXECUTIVE  Maisonette           146.0         YISHUN ST 71   \n\n        resale_price    month     remaining_lease  lease_commence_date  \\\n0           720000.0  2017-02  74 years 09 months                 1992   \n1           725000.0  2017-02  74 years 09 months                 1992   \n2           938888.0  2017-02  70 years 11 months                 1989   \n3           290000.0  2017-02  69 years 09 months                 1987   \n4           292000.0  2017-02  69 years 05 months                 1987   \n...              ...      ...                 ...                  ...   \n130092      715000.0  2022-07  62 years 02 months                 1985   \n130093      740000.0  2022-07  63 years 10 months                 1987   \n130094      720000.0  2022-07  62 years 11 months                 1986   \n130095      678000.0  2022-07   63 years 01 month                 1986   \n130096      705000.0  2022-07   63 years 01 month                 1986   \n\n       storey_range     _id block  \n0          04 TO 06       1   526  \n1          10 TO 12       2   525  \n2          10 TO 12       3   423  \n3          01 TO 03       4   849  \n4          10 TO 12       5   462  \n...             ...     ...   ...  \n130092     01 TO 03  130093   277  \n130093     04 TO 06  130094   614  \n130094     07 TO 09  130095   723  \n130095     04 TO 06  130096   724  \n130096     01 TO 03  130097   724  \n\n[130097 rows x 12 columns]",
      "text/html": "<div>\n<style scoped>\n    .dataframe tbody tr th:only-of-type {\n        vertical-align: middle;\n    }\n\n    .dataframe tbody tr th {\n        vertical-align: top;\n    }\n\n    .dataframe thead th {\n        text-align: right;\n    }\n</style>\n<table border=\"1\" class=\"dataframe\">\n  <thead>\n    <tr style=\"text-align: right;\">\n      <th></th>\n      <th>town</th>\n      <th>flat_type</th>\n      <th>flat_model</th>\n      <th>floor_area_sqm</th>\n      <th>street_name</th>\n      <th>resale_price</th>\n      <th>month</th>\n      <th>remaining_lease</th>\n      <th>lease_commence_date</th>\n      <th>storey_range</th>\n      <th>_id</th>\n      <th>block</th>\n    </tr>\n  </thead>\n  <tbody>\n    <tr>\n      <th>0</th>\n      <td>SERANGOON</td>\n      <td>EXECUTIVE</td>\n      <td>Maisonette</td>\n      <td>152.0</td>\n      <td>SERANGOON NTH AVE 4</td>\n      <td>720000.0</td>\n      <td>2017-02</td>\n      <td>74 years 09 months</td>\n      <td>1992</td>\n      <td>04 TO 06</td>\n      <td>1</td>\n      <td>526</td>\n    </tr>\n    <tr>\n      <th>1</th>\n      <td>SERANGOON</td>\n      <td>EXECUTIVE</td>\n      <td>Maisonette</td>\n      <td>152.0</td>\n      <td>SERANGOON NTH AVE 4</td>\n      <td>725000.0</td>\n      <td>2017-02</td>\n      <td>74 years 09 months</td>\n      <td>1992</td>\n      <td>10 TO 12</td>\n      <td>2</td>\n      <td>525</td>\n    </tr>\n    <tr>\n      <th>2</th>\n      <td>SERANGOON</td>\n      <td>EXECUTIVE</td>\n      <td>Maisonette</td>\n      <td>154.0</td>\n      <td>SERANGOON CTRL</td>\n      <td>938888.0</td>\n      <td>2017-02</td>\n      <td>70 years 11 months</td>\n      <td>1989</td>\n      <td>10 TO 12</td>\n      <td>3</td>\n      <td>423</td>\n    </tr>\n    <tr>\n      <th>3</th>\n      <td>TAMPINES</td>\n      <td>3 ROOM</td>\n      <td>Simplified</td>\n      <td>64.0</td>\n      <td>TAMPINES ST 83</td>\n      <td>290000.0</td>\n      <td>2017-02</td>\n      <td>69 years 09 months</td>\n      <td>1987</td>\n      <td>01 TO 03</td>\n      <td>4</td>\n      <td>849</td>\n    </tr>\n    <tr>\n      <th>4</th>\n      <td>TAMPINES</td>\n      <td>3 ROOM</td>\n      <td>Simplified</td>\n      <td>64.0</td>\n      <td>TAMPINES ST 44</td>\n      <td>292000.0</td>\n      <td>2017-02</td>\n      <td>69 years 05 months</td>\n      <td>1987</td>\n      <td>10 TO 12</td>\n      <td>5</td>\n      <td>462</td>\n    </tr>\n    <tr>\n      <th>...</th>\n      <td>...</td>\n      <td>...</td>\n      <td>...</td>\n      <td>...</td>\n      <td>...</td>\n      <td>...</td>\n      <td>...</td>\n      <td>...</td>\n      <td>...</td>\n      <td>...</td>\n      <td>...</td>\n      <td>...</td>\n    </tr>\n    <tr>\n      <th>130092</th>\n      <td>YISHUN</td>\n      <td>EXECUTIVE</td>\n      <td>Maisonette</td>\n      <td>146.0</td>\n      <td>YISHUN ST 22</td>\n      <td>715000.0</td>\n      <td>2022-07</td>\n      <td>62 years 02 months</td>\n      <td>1985</td>\n      <td>01 TO 03</td>\n      <td>130093</td>\n      <td>277</td>\n    </tr>\n    <tr>\n      <th>130093</th>\n      <td>YISHUN</td>\n      <td>EXECUTIVE</td>\n      <td>Maisonette</td>\n      <td>146.0</td>\n      <td>YISHUN ST 61</td>\n      <td>740000.0</td>\n      <td>2022-07</td>\n      <td>63 years 10 months</td>\n      <td>1987</td>\n      <td>04 TO 06</td>\n      <td>130094</td>\n      <td>614</td>\n    </tr>\n    <tr>\n      <th>130094</th>\n      <td>YISHUN</td>\n      <td>EXECUTIVE</td>\n      <td>Apartment</td>\n      <td>145.0</td>\n      <td>YISHUN ST 71</td>\n      <td>720000.0</td>\n      <td>2022-07</td>\n      <td>62 years 11 months</td>\n      <td>1986</td>\n      <td>07 TO 09</td>\n      <td>130095</td>\n      <td>723</td>\n    </tr>\n    <tr>\n      <th>130095</th>\n      <td>YISHUN</td>\n      <td>EXECUTIVE</td>\n      <td>Maisonette</td>\n      <td>146.0</td>\n      <td>YISHUN ST 71</td>\n      <td>678000.0</td>\n      <td>2022-07</td>\n      <td>63 years 01 month</td>\n      <td>1986</td>\n      <td>04 TO 06</td>\n      <td>130096</td>\n      <td>724</td>\n    </tr>\n    <tr>\n      <th>130096</th>\n      <td>YISHUN</td>\n      <td>EXECUTIVE</td>\n      <td>Maisonette</td>\n      <td>146.0</td>\n      <td>YISHUN ST 71</td>\n      <td>705000.0</td>\n      <td>2022-07</td>\n      <td>63 years 01 month</td>\n      <td>1986</td>\n      <td>01 TO 03</td>\n      <td>130097</td>\n      <td>724</td>\n    </tr>\n  </tbody>\n</table>\n<p>130097 rows × 12 columns</p>\n</div>"
     },
     "execution_count": 3,
     "metadata": {},
     "output_type": "execute_result"
    }
   ],
   "source": [
    "df = pd.read_csv('./training/SavedData.csv')\n",
    "df"
   ],
   "metadata": {
    "collapsed": false,
    "pycharm": {
     "name": "#%%\n"
    }
   }
  },
  {
   "cell_type": "code",
   "execution_count": 4,
   "outputs": [
    {
     "data": {
      "text/plain": "             town  flat_type  flat_model  floor_area_sqm          street_name  \\\n0       SERANGOON  EXECUTIVE  Maisonette           152.0  SERANGOON NTH AVE 4   \n1       SERANGOON  EXECUTIVE  Maisonette           152.0  SERANGOON NTH AVE 4   \n2       SERANGOON  EXECUTIVE  Maisonette           154.0       SERANGOON CTRL   \n3        TAMPINES     3 ROOM  Simplified            64.0       TAMPINES ST 83   \n4        TAMPINES     3 ROOM  Simplified            64.0       TAMPINES ST 44   \n...           ...        ...         ...             ...                  ...   \n130092     YISHUN  EXECUTIVE  Maisonette           146.0         YISHUN ST 22   \n130093     YISHUN  EXECUTIVE  Maisonette           146.0         YISHUN ST 61   \n130094     YISHUN  EXECUTIVE   Apartment           145.0         YISHUN ST 71   \n130095     YISHUN  EXECUTIVE  Maisonette           146.0         YISHUN ST 71   \n130096     YISHUN  EXECUTIVE  Maisonette           146.0         YISHUN ST 71   \n\n        resale_price    month     remaining_lease  lease_commence_date  \\\n0           720000.0  2017-02  74 years 09 months                 1992   \n1           725000.0  2017-02  74 years 09 months                 1992   \n2           938888.0  2017-02  70 years 11 months                 1989   \n3           290000.0  2017-02  69 years 09 months                 1987   \n4           292000.0  2017-02  69 years 05 months                 1987   \n...              ...      ...                 ...                  ...   \n130092      715000.0  2022-07  62 years 02 months                 1985   \n130093      740000.0  2022-07  63 years 10 months                 1987   \n130094      720000.0  2022-07  62 years 11 months                 1986   \n130095      678000.0  2022-07   63 years 01 month                 1986   \n130096      705000.0  2022-07   63 years 01 month                 1986   \n\n       storey_range     _id block  price_per_sq_m month_datetime  \n0          04 TO 06       1   526     4736.842105     2017-02-01  \n1          10 TO 12       2   525     4769.736842     2017-02-01  \n2          10 TO 12       3   423     6096.675325     2017-02-01  \n3          01 TO 03       4   849     4531.250000     2017-02-01  \n4          10 TO 12       5   462     4562.500000     2017-02-01  \n...             ...     ...   ...             ...            ...  \n130092     01 TO 03  130093   277     4897.260274     2022-07-01  \n130093     04 TO 06  130094   614     5068.493151     2022-07-01  \n130094     07 TO 09  130095   723     4965.517241     2022-07-01  \n130095     04 TO 06  130096   724     4643.835616     2022-07-01  \n130096     01 TO 03  130097   724     4828.767123     2022-07-01  \n\n[130097 rows x 14 columns]",
      "text/html": "<div>\n<style scoped>\n    .dataframe tbody tr th:only-of-type {\n        vertical-align: middle;\n    }\n\n    .dataframe tbody tr th {\n        vertical-align: top;\n    }\n\n    .dataframe thead th {\n        text-align: right;\n    }\n</style>\n<table border=\"1\" class=\"dataframe\">\n  <thead>\n    <tr style=\"text-align: right;\">\n      <th></th>\n      <th>town</th>\n      <th>flat_type</th>\n      <th>flat_model</th>\n      <th>floor_area_sqm</th>\n      <th>street_name</th>\n      <th>resale_price</th>\n      <th>month</th>\n      <th>remaining_lease</th>\n      <th>lease_commence_date</th>\n      <th>storey_range</th>\n      <th>_id</th>\n      <th>block</th>\n      <th>price_per_sq_m</th>\n      <th>month_datetime</th>\n    </tr>\n  </thead>\n  <tbody>\n    <tr>\n      <th>0</th>\n      <td>SERANGOON</td>\n      <td>EXECUTIVE</td>\n      <td>Maisonette</td>\n      <td>152.0</td>\n      <td>SERANGOON NTH AVE 4</td>\n      <td>720000.0</td>\n      <td>2017-02</td>\n      <td>74 years 09 months</td>\n      <td>1992</td>\n      <td>04 TO 06</td>\n      <td>1</td>\n      <td>526</td>\n      <td>4736.842105</td>\n      <td>2017-02-01</td>\n    </tr>\n    <tr>\n      <th>1</th>\n      <td>SERANGOON</td>\n      <td>EXECUTIVE</td>\n      <td>Maisonette</td>\n      <td>152.0</td>\n      <td>SERANGOON NTH AVE 4</td>\n      <td>725000.0</td>\n      <td>2017-02</td>\n      <td>74 years 09 months</td>\n      <td>1992</td>\n      <td>10 TO 12</td>\n      <td>2</td>\n      <td>525</td>\n      <td>4769.736842</td>\n      <td>2017-02-01</td>\n    </tr>\n    <tr>\n      <th>2</th>\n      <td>SERANGOON</td>\n      <td>EXECUTIVE</td>\n      <td>Maisonette</td>\n      <td>154.0</td>\n      <td>SERANGOON CTRL</td>\n      <td>938888.0</td>\n      <td>2017-02</td>\n      <td>70 years 11 months</td>\n      <td>1989</td>\n      <td>10 TO 12</td>\n      <td>3</td>\n      <td>423</td>\n      <td>6096.675325</td>\n      <td>2017-02-01</td>\n    </tr>\n    <tr>\n      <th>3</th>\n      <td>TAMPINES</td>\n      <td>3 ROOM</td>\n      <td>Simplified</td>\n      <td>64.0</td>\n      <td>TAMPINES ST 83</td>\n      <td>290000.0</td>\n      <td>2017-02</td>\n      <td>69 years 09 months</td>\n      <td>1987</td>\n      <td>01 TO 03</td>\n      <td>4</td>\n      <td>849</td>\n      <td>4531.250000</td>\n      <td>2017-02-01</td>\n    </tr>\n    <tr>\n      <th>4</th>\n      <td>TAMPINES</td>\n      <td>3 ROOM</td>\n      <td>Simplified</td>\n      <td>64.0</td>\n      <td>TAMPINES ST 44</td>\n      <td>292000.0</td>\n      <td>2017-02</td>\n      <td>69 years 05 months</td>\n      <td>1987</td>\n      <td>10 TO 12</td>\n      <td>5</td>\n      <td>462</td>\n      <td>4562.500000</td>\n      <td>2017-02-01</td>\n    </tr>\n    <tr>\n      <th>...</th>\n      <td>...</td>\n      <td>...</td>\n      <td>...</td>\n      <td>...</td>\n      <td>...</td>\n      <td>...</td>\n      <td>...</td>\n      <td>...</td>\n      <td>...</td>\n      <td>...</td>\n      <td>...</td>\n      <td>...</td>\n      <td>...</td>\n      <td>...</td>\n    </tr>\n    <tr>\n      <th>130092</th>\n      <td>YISHUN</td>\n      <td>EXECUTIVE</td>\n      <td>Maisonette</td>\n      <td>146.0</td>\n      <td>YISHUN ST 22</td>\n      <td>715000.0</td>\n      <td>2022-07</td>\n      <td>62 years 02 months</td>\n      <td>1985</td>\n      <td>01 TO 03</td>\n      <td>130093</td>\n      <td>277</td>\n      <td>4897.260274</td>\n      <td>2022-07-01</td>\n    </tr>\n    <tr>\n      <th>130093</th>\n      <td>YISHUN</td>\n      <td>EXECUTIVE</td>\n      <td>Maisonette</td>\n      <td>146.0</td>\n      <td>YISHUN ST 61</td>\n      <td>740000.0</td>\n      <td>2022-07</td>\n      <td>63 years 10 months</td>\n      <td>1987</td>\n      <td>04 TO 06</td>\n      <td>130094</td>\n      <td>614</td>\n      <td>5068.493151</td>\n      <td>2022-07-01</td>\n    </tr>\n    <tr>\n      <th>130094</th>\n      <td>YISHUN</td>\n      <td>EXECUTIVE</td>\n      <td>Apartment</td>\n      <td>145.0</td>\n      <td>YISHUN ST 71</td>\n      <td>720000.0</td>\n      <td>2022-07</td>\n      <td>62 years 11 months</td>\n      <td>1986</td>\n      <td>07 TO 09</td>\n      <td>130095</td>\n      <td>723</td>\n      <td>4965.517241</td>\n      <td>2022-07-01</td>\n    </tr>\n    <tr>\n      <th>130095</th>\n      <td>YISHUN</td>\n      <td>EXECUTIVE</td>\n      <td>Maisonette</td>\n      <td>146.0</td>\n      <td>YISHUN ST 71</td>\n      <td>678000.0</td>\n      <td>2022-07</td>\n      <td>63 years 01 month</td>\n      <td>1986</td>\n      <td>04 TO 06</td>\n      <td>130096</td>\n      <td>724</td>\n      <td>4643.835616</td>\n      <td>2022-07-01</td>\n    </tr>\n    <tr>\n      <th>130096</th>\n      <td>YISHUN</td>\n      <td>EXECUTIVE</td>\n      <td>Maisonette</td>\n      <td>146.0</td>\n      <td>YISHUN ST 71</td>\n      <td>705000.0</td>\n      <td>2022-07</td>\n      <td>63 years 01 month</td>\n      <td>1986</td>\n      <td>01 TO 03</td>\n      <td>130097</td>\n      <td>724</td>\n      <td>4828.767123</td>\n      <td>2022-07-01</td>\n    </tr>\n  </tbody>\n</table>\n<p>130097 rows × 14 columns</p>\n</div>"
     },
     "execution_count": 4,
     "metadata": {},
     "output_type": "execute_result"
    }
   ],
   "source": [
    "df['price_per_sq_m'] = df['resale_price']/df['floor_area_sqm']\n",
    "df['month_datetime'] = pd.to_datetime(df['month'])\n",
    "\n",
    "df"
   ],
   "metadata": {
    "collapsed": false,
    "pycharm": {
     "name": "#%%\n"
    }
   }
  },
  {
   "cell_type": "code",
   "execution_count": 5,
   "outputs": [
    {
     "data": {
      "text/plain": "                floor_area_sqm   resale_price  lease_commence_date       _id  \\\nmonth_datetime                                                                 \n2017-02-01          104.074074  438847.288889          1990.703704     135.5   \n2017-03-01           97.140988  445029.896942          1992.283237    1222.0   \n2017-04-01           97.084285  438629.272235          1992.362697    3093.0   \n2017-05-01           97.435000  443789.321212          1992.696465    5002.5   \n2017-06-01           98.061420  448502.036062          1992.929021    6866.0   \n...                        ...            ...                  ...       ...   \n2022-03-01           96.869275  536441.163024          1996.638815  120144.5   \n2022-04-01           97.834951  544842.923071          1997.216681  122408.5   \n2022-05-01           96.323134  545866.347594          1997.599444  124620.0   \n2022-06-01           97.897662  557157.805049          1997.572698  126768.0   \n2022-07-01           97.406239  557871.326549          1996.904867  128967.5   \n\n                price_per_sq_m  \nmonth_datetime                  \n2017-02-01         4229.048203  \n2017-03-01         4624.392670  \n2017-04-01         4564.304184  \n2017-05-01         4592.097633  \n2017-06-01         4615.460329  \n...                        ...  \n2022-03-01         5592.196061  \n2022-04-01         5618.073513  \n2022-05-01         5717.502896  \n2022-06-01         5749.092257  \n2022-07-01         5772.167188  \n\n[66 rows x 5 columns]",
      "text/html": "<div>\n<style scoped>\n    .dataframe tbody tr th:only-of-type {\n        vertical-align: middle;\n    }\n\n    .dataframe tbody tr th {\n        vertical-align: top;\n    }\n\n    .dataframe thead th {\n        text-align: right;\n    }\n</style>\n<table border=\"1\" class=\"dataframe\">\n  <thead>\n    <tr style=\"text-align: right;\">\n      <th></th>\n      <th>floor_area_sqm</th>\n      <th>resale_price</th>\n      <th>lease_commence_date</th>\n      <th>_id</th>\n      <th>price_per_sq_m</th>\n    </tr>\n    <tr>\n      <th>month_datetime</th>\n      <th></th>\n      <th></th>\n      <th></th>\n      <th></th>\n      <th></th>\n    </tr>\n  </thead>\n  <tbody>\n    <tr>\n      <th>2017-02-01</th>\n      <td>104.074074</td>\n      <td>438847.288889</td>\n      <td>1990.703704</td>\n      <td>135.5</td>\n      <td>4229.048203</td>\n    </tr>\n    <tr>\n      <th>2017-03-01</th>\n      <td>97.140988</td>\n      <td>445029.896942</td>\n      <td>1992.283237</td>\n      <td>1222.0</td>\n      <td>4624.392670</td>\n    </tr>\n    <tr>\n      <th>2017-04-01</th>\n      <td>97.084285</td>\n      <td>438629.272235</td>\n      <td>1992.362697</td>\n      <td>3093.0</td>\n      <td>4564.304184</td>\n    </tr>\n    <tr>\n      <th>2017-05-01</th>\n      <td>97.435000</td>\n      <td>443789.321212</td>\n      <td>1992.696465</td>\n      <td>5002.5</td>\n      <td>4592.097633</td>\n    </tr>\n    <tr>\n      <th>2017-06-01</th>\n      <td>98.061420</td>\n      <td>448502.036062</td>\n      <td>1992.929021</td>\n      <td>6866.0</td>\n      <td>4615.460329</td>\n    </tr>\n    <tr>\n      <th>...</th>\n      <td>...</td>\n      <td>...</td>\n      <td>...</td>\n      <td>...</td>\n      <td>...</td>\n    </tr>\n    <tr>\n      <th>2022-03-01</th>\n      <td>96.869275</td>\n      <td>536441.163024</td>\n      <td>1996.638815</td>\n      <td>120144.5</td>\n      <td>5592.196061</td>\n    </tr>\n    <tr>\n      <th>2022-04-01</th>\n      <td>97.834951</td>\n      <td>544842.923071</td>\n      <td>1997.216681</td>\n      <td>122408.5</td>\n      <td>5618.073513</td>\n    </tr>\n    <tr>\n      <th>2022-05-01</th>\n      <td>96.323134</td>\n      <td>545866.347594</td>\n      <td>1997.599444</td>\n      <td>124620.0</td>\n      <td>5717.502896</td>\n    </tr>\n    <tr>\n      <th>2022-06-01</th>\n      <td>97.897662</td>\n      <td>557157.805049</td>\n      <td>1997.572698</td>\n      <td>126768.0</td>\n      <td>5749.092257</td>\n    </tr>\n    <tr>\n      <th>2022-07-01</th>\n      <td>97.406239</td>\n      <td>557871.326549</td>\n      <td>1996.904867</td>\n      <td>128967.5</td>\n      <td>5772.167188</td>\n    </tr>\n  </tbody>\n</table>\n<p>66 rows × 5 columns</p>\n</div>"
     },
     "execution_count": 5,
     "metadata": {},
     "output_type": "execute_result"
    }
   ],
   "source": [
    "df_grouped = df.groupby('month_datetime').mean()\n",
    "df_grouped"
   ],
   "metadata": {
    "collapsed": false,
    "pycharm": {
     "name": "#%%\n"
    }
   }
  },
  {
   "cell_type": "code",
   "execution_count": 6,
   "outputs": [
    {
     "data": {
      "text/plain": "   month_datetime  price_per_sq_m\n0      2017-02-01     4229.048203\n1      2017-03-01     4624.392670\n2      2017-04-01     4564.304184\n3      2017-05-01     4592.097633\n4      2017-06-01     4615.460329\n..            ...             ...\n61     2022-03-01     5592.196061\n62     2022-04-01     5618.073513\n63     2022-05-01     5717.502896\n64     2022-06-01     5749.092257\n65     2022-07-01     5772.167188\n\n[66 rows x 2 columns]",
      "text/html": "<div>\n<style scoped>\n    .dataframe tbody tr th:only-of-type {\n        vertical-align: middle;\n    }\n\n    .dataframe tbody tr th {\n        vertical-align: top;\n    }\n\n    .dataframe thead th {\n        text-align: right;\n    }\n</style>\n<table border=\"1\" class=\"dataframe\">\n  <thead>\n    <tr style=\"text-align: right;\">\n      <th></th>\n      <th>month_datetime</th>\n      <th>price_per_sq_m</th>\n    </tr>\n  </thead>\n  <tbody>\n    <tr>\n      <th>0</th>\n      <td>2017-02-01</td>\n      <td>4229.048203</td>\n    </tr>\n    <tr>\n      <th>1</th>\n      <td>2017-03-01</td>\n      <td>4624.392670</td>\n    </tr>\n    <tr>\n      <th>2</th>\n      <td>2017-04-01</td>\n      <td>4564.304184</td>\n    </tr>\n    <tr>\n      <th>3</th>\n      <td>2017-05-01</td>\n      <td>4592.097633</td>\n    </tr>\n    <tr>\n      <th>4</th>\n      <td>2017-06-01</td>\n      <td>4615.460329</td>\n    </tr>\n    <tr>\n      <th>...</th>\n      <td>...</td>\n      <td>...</td>\n    </tr>\n    <tr>\n      <th>61</th>\n      <td>2022-03-01</td>\n      <td>5592.196061</td>\n    </tr>\n    <tr>\n      <th>62</th>\n      <td>2022-04-01</td>\n      <td>5618.073513</td>\n    </tr>\n    <tr>\n      <th>63</th>\n      <td>2022-05-01</td>\n      <td>5717.502896</td>\n    </tr>\n    <tr>\n      <th>64</th>\n      <td>2022-06-01</td>\n      <td>5749.092257</td>\n    </tr>\n    <tr>\n      <th>65</th>\n      <td>2022-07-01</td>\n      <td>5772.167188</td>\n    </tr>\n  </tbody>\n</table>\n<p>66 rows × 2 columns</p>\n</div>"
     },
     "execution_count": 6,
     "metadata": {},
     "output_type": "execute_result"
    }
   ],
   "source": [
    "df_price_trend = df_grouped.reset_index()[['month_datetime', 'price_per_sq_m']]\n",
    "df_price_trend"
   ],
   "metadata": {
    "collapsed": false,
    "pycharm": {
     "name": "#%%\n"
    }
   }
  },
  {
   "cell_type": "code",
   "execution_count": null,
   "metadata": {
    "collapsed": true
   },
   "outputs": [],
   "source": []
  }
 ],
 "metadata": {
  "kernelspec": {
   "display_name": "Python 3",
   "language": "python",
   "name": "python3"
  },
  "language_info": {
   "codemirror_mode": {
    "name": "ipython",
    "version": 2
   },
   "file_extension": ".py",
   "mimetype": "text/x-python",
   "name": "python",
   "nbconvert_exporter": "python",
   "pygments_lexer": "ipython2",
   "version": "2.7.6"
  }
 },
 "nbformat": 4,
 "nbformat_minor": 0
}