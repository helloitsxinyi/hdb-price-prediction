{
 "cells": [
  {
   "cell_type": "markdown",
   "source": [
    "# Data preprocessing"
   ],
   "metadata": {
    "collapsed": false
   }
  },
  {
   "cell_type": "code",
   "execution_count": 1,
   "outputs": [],
   "source": [
    "import pandas as pd\n",
    "import seaborn as sns\n",
    "import matplotlib.pyplot as plt\n",
    "import numpy as np\n",
    "import time\n",
    "from joblib import dump"
   ],
   "metadata": {
    "collapsed": false,
    "pycharm": {
     "name": "#%%\n"
    }
   }
  },
  {
   "cell_type": "code",
   "execution_count": 2,
   "outputs": [
    {
     "name": "stdout",
     "output_type": "stream",
     "text": [
      "Index(['town', 'flat_type', 'flat_model', 'floor_area_sqm', 'street_name',\n",
      "       'resale_price', 'month', 'remaining_lease', 'lease_commence_date',\n",
      "       'storey_range', '_id', 'block'],\n",
      "      dtype='object')\n"
     ]
    },
    {
     "data": {
      "text/plain": "             town  flat_type  flat_model  floor_area_sqm          street_name  \\\n0       SERANGOON  EXECUTIVE  Maisonette           152.0  SERANGOON NTH AVE 4   \n1       SERANGOON  EXECUTIVE  Maisonette           152.0  SERANGOON NTH AVE 4   \n2       SERANGOON  EXECUTIVE  Maisonette           154.0       SERANGOON CTRL   \n3        TAMPINES     3 ROOM  Simplified            64.0       TAMPINES ST 83   \n4        TAMPINES     3 ROOM  Simplified            64.0       TAMPINES ST 44   \n...           ...        ...         ...             ...                  ...   \n130092     YISHUN  EXECUTIVE  Maisonette           146.0         YISHUN ST 22   \n130093     YISHUN  EXECUTIVE  Maisonette           146.0         YISHUN ST 61   \n130094     YISHUN  EXECUTIVE   Apartment           145.0         YISHUN ST 71   \n130095     YISHUN  EXECUTIVE  Maisonette           146.0         YISHUN ST 71   \n130096     YISHUN  EXECUTIVE  Maisonette           146.0         YISHUN ST 71   \n\n        resale_price    month     remaining_lease  lease_commence_date  \\\n0           720000.0  2017-02  74 years 09 months                 1992   \n1           725000.0  2017-02  74 years 09 months                 1992   \n2           938888.0  2017-02  70 years 11 months                 1989   \n3           290000.0  2017-02  69 years 09 months                 1987   \n4           292000.0  2017-02  69 years 05 months                 1987   \n...              ...      ...                 ...                  ...   \n130092      715000.0  2022-07  62 years 02 months                 1985   \n130093      740000.0  2022-07  63 years 10 months                 1987   \n130094      720000.0  2022-07  62 years 11 months                 1986   \n130095      678000.0  2022-07   63 years 01 month                 1986   \n130096      705000.0  2022-07   63 years 01 month                 1986   \n\n       storey_range     _id block  \n0          04 TO 06       1   526  \n1          10 TO 12       2   525  \n2          10 TO 12       3   423  \n3          01 TO 03       4   849  \n4          10 TO 12       5   462  \n...             ...     ...   ...  \n130092     01 TO 03  130093   277  \n130093     04 TO 06  130094   614  \n130094     07 TO 09  130095   723  \n130095     04 TO 06  130096   724  \n130096     01 TO 03  130097   724  \n\n[130097 rows x 12 columns]",
      "text/html": "<div>\n<style scoped>\n    .dataframe tbody tr th:only-of-type {\n        vertical-align: middle;\n    }\n\n    .dataframe tbody tr th {\n        vertical-align: top;\n    }\n\n    .dataframe thead th {\n        text-align: right;\n    }\n</style>\n<table border=\"1\" class=\"dataframe\">\n  <thead>\n    <tr style=\"text-align: right;\">\n      <th></th>\n      <th>town</th>\n      <th>flat_type</th>\n      <th>flat_model</th>\n      <th>floor_area_sqm</th>\n      <th>street_name</th>\n      <th>resale_price</th>\n      <th>month</th>\n      <th>remaining_lease</th>\n      <th>lease_commence_date</th>\n      <th>storey_range</th>\n      <th>_id</th>\n      <th>block</th>\n    </tr>\n  </thead>\n  <tbody>\n    <tr>\n      <th>0</th>\n      <td>SERANGOON</td>\n      <td>EXECUTIVE</td>\n      <td>Maisonette</td>\n      <td>152.0</td>\n      <td>SERANGOON NTH AVE 4</td>\n      <td>720000.0</td>\n      <td>2017-02</td>\n      <td>74 years 09 months</td>\n      <td>1992</td>\n      <td>04 TO 06</td>\n      <td>1</td>\n      <td>526</td>\n    </tr>\n    <tr>\n      <th>1</th>\n      <td>SERANGOON</td>\n      <td>EXECUTIVE</td>\n      <td>Maisonette</td>\n      <td>152.0</td>\n      <td>SERANGOON NTH AVE 4</td>\n      <td>725000.0</td>\n      <td>2017-02</td>\n      <td>74 years 09 months</td>\n      <td>1992</td>\n      <td>10 TO 12</td>\n      <td>2</td>\n      <td>525</td>\n    </tr>\n    <tr>\n      <th>2</th>\n      <td>SERANGOON</td>\n      <td>EXECUTIVE</td>\n      <td>Maisonette</td>\n      <td>154.0</td>\n      <td>SERANGOON CTRL</td>\n      <td>938888.0</td>\n      <td>2017-02</td>\n      <td>70 years 11 months</td>\n      <td>1989</td>\n      <td>10 TO 12</td>\n      <td>3</td>\n      <td>423</td>\n    </tr>\n    <tr>\n      <th>3</th>\n      <td>TAMPINES</td>\n      <td>3 ROOM</td>\n      <td>Simplified</td>\n      <td>64.0</td>\n      <td>TAMPINES ST 83</td>\n      <td>290000.0</td>\n      <td>2017-02</td>\n      <td>69 years 09 months</td>\n      <td>1987</td>\n      <td>01 TO 03</td>\n      <td>4</td>\n      <td>849</td>\n    </tr>\n    <tr>\n      <th>4</th>\n      <td>TAMPINES</td>\n      <td>3 ROOM</td>\n      <td>Simplified</td>\n      <td>64.0</td>\n      <td>TAMPINES ST 44</td>\n      <td>292000.0</td>\n      <td>2017-02</td>\n      <td>69 years 05 months</td>\n      <td>1987</td>\n      <td>10 TO 12</td>\n      <td>5</td>\n      <td>462</td>\n    </tr>\n    <tr>\n      <th>...</th>\n      <td>...</td>\n      <td>...</td>\n      <td>...</td>\n      <td>...</td>\n      <td>...</td>\n      <td>...</td>\n      <td>...</td>\n      <td>...</td>\n      <td>...</td>\n      <td>...</td>\n      <td>...</td>\n      <td>...</td>\n    </tr>\n    <tr>\n      <th>130092</th>\n      <td>YISHUN</td>\n      <td>EXECUTIVE</td>\n      <td>Maisonette</td>\n      <td>146.0</td>\n      <td>YISHUN ST 22</td>\n      <td>715000.0</td>\n      <td>2022-07</td>\n      <td>62 years 02 months</td>\n      <td>1985</td>\n      <td>01 TO 03</td>\n      <td>130093</td>\n      <td>277</td>\n    </tr>\n    <tr>\n      <th>130093</th>\n      <td>YISHUN</td>\n      <td>EXECUTIVE</td>\n      <td>Maisonette</td>\n      <td>146.0</td>\n      <td>YISHUN ST 61</td>\n      <td>740000.0</td>\n      <td>2022-07</td>\n      <td>63 years 10 months</td>\n      <td>1987</td>\n      <td>04 TO 06</td>\n      <td>130094</td>\n      <td>614</td>\n    </tr>\n    <tr>\n      <th>130094</th>\n      <td>YISHUN</td>\n      <td>EXECUTIVE</td>\n      <td>Apartment</td>\n      <td>145.0</td>\n      <td>YISHUN ST 71</td>\n      <td>720000.0</td>\n      <td>2022-07</td>\n      <td>62 years 11 months</td>\n      <td>1986</td>\n      <td>07 TO 09</td>\n      <td>130095</td>\n      <td>723</td>\n    </tr>\n    <tr>\n      <th>130095</th>\n      <td>YISHUN</td>\n      <td>EXECUTIVE</td>\n      <td>Maisonette</td>\n      <td>146.0</td>\n      <td>YISHUN ST 71</td>\n      <td>678000.0</td>\n      <td>2022-07</td>\n      <td>63 years 01 month</td>\n      <td>1986</td>\n      <td>04 TO 06</td>\n      <td>130096</td>\n      <td>724</td>\n    </tr>\n    <tr>\n      <th>130096</th>\n      <td>YISHUN</td>\n      <td>EXECUTIVE</td>\n      <td>Maisonette</td>\n      <td>146.0</td>\n      <td>YISHUN ST 71</td>\n      <td>705000.0</td>\n      <td>2022-07</td>\n      <td>63 years 01 month</td>\n      <td>1986</td>\n      <td>01 TO 03</td>\n      <td>130097</td>\n      <td>724</td>\n    </tr>\n  </tbody>\n</table>\n<p>130097 rows × 12 columns</p>\n</div>"
     },
     "execution_count": 2,
     "metadata": {},
     "output_type": "execute_result"
    }
   ],
   "source": [
    "df = pd.read_csv('SavedData.csv')\n",
    "print(df.columns)\n",
    "df"
   ],
   "metadata": {
    "collapsed": false,
    "pycharm": {
     "name": "#%%\n"
    }
   }
  },
  {
   "cell_type": "code",
   "execution_count": 3,
   "outputs": [
    {
     "data": {
      "text/plain": "        town  flat_type  flat_model  floor_area_sqm          street_name  \\\n0  SERANGOON  EXECUTIVE  Maisonette           152.0  SERANGOON NTH AVE 4   \n1  SERANGOON  EXECUTIVE  Maisonette           152.0  SERANGOON NTH AVE 4   \n2  SERANGOON  EXECUTIVE  Maisonette           154.0       SERANGOON CTRL   \n3   TAMPINES     3 ROOM  Simplified            64.0       TAMPINES ST 83   \n4   TAMPINES     3 ROOM  Simplified            64.0       TAMPINES ST 44   \n\n   resale_price    month     remaining_lease  lease_commence_date  \\\n0      720000.0  2017-02  74 years 09 months                 1992   \n1      725000.0  2017-02  74 years 09 months                 1992   \n2      938888.0  2017-02  70 years 11 months                 1989   \n3      290000.0  2017-02  69 years 09 months                 1987   \n4      292000.0  2017-02  69 years 05 months                 1987   \n\n  storey_range  _id block  \n0     04 TO 06    1   526  \n1     10 TO 12    2   525  \n2     10 TO 12    3   423  \n3     01 TO 03    4   849  \n4     10 TO 12    5   462  ",
      "text/html": "<div>\n<style scoped>\n    .dataframe tbody tr th:only-of-type {\n        vertical-align: middle;\n    }\n\n    .dataframe tbody tr th {\n        vertical-align: top;\n    }\n\n    .dataframe thead th {\n        text-align: right;\n    }\n</style>\n<table border=\"1\" class=\"dataframe\">\n  <thead>\n    <tr style=\"text-align: right;\">\n      <th></th>\n      <th>town</th>\n      <th>flat_type</th>\n      <th>flat_model</th>\n      <th>floor_area_sqm</th>\n      <th>street_name</th>\n      <th>resale_price</th>\n      <th>month</th>\n      <th>remaining_lease</th>\n      <th>lease_commence_date</th>\n      <th>storey_range</th>\n      <th>_id</th>\n      <th>block</th>\n    </tr>\n  </thead>\n  <tbody>\n    <tr>\n      <th>0</th>\n      <td>SERANGOON</td>\n      <td>EXECUTIVE</td>\n      <td>Maisonette</td>\n      <td>152.0</td>\n      <td>SERANGOON NTH AVE 4</td>\n      <td>720000.0</td>\n      <td>2017-02</td>\n      <td>74 years 09 months</td>\n      <td>1992</td>\n      <td>04 TO 06</td>\n      <td>1</td>\n      <td>526</td>\n    </tr>\n    <tr>\n      <th>1</th>\n      <td>SERANGOON</td>\n      <td>EXECUTIVE</td>\n      <td>Maisonette</td>\n      <td>152.0</td>\n      <td>SERANGOON NTH AVE 4</td>\n      <td>725000.0</td>\n      <td>2017-02</td>\n      <td>74 years 09 months</td>\n      <td>1992</td>\n      <td>10 TO 12</td>\n      <td>2</td>\n      <td>525</td>\n    </tr>\n    <tr>\n      <th>2</th>\n      <td>SERANGOON</td>\n      <td>EXECUTIVE</td>\n      <td>Maisonette</td>\n      <td>154.0</td>\n      <td>SERANGOON CTRL</td>\n      <td>938888.0</td>\n      <td>2017-02</td>\n      <td>70 years 11 months</td>\n      <td>1989</td>\n      <td>10 TO 12</td>\n      <td>3</td>\n      <td>423</td>\n    </tr>\n    <tr>\n      <th>3</th>\n      <td>TAMPINES</td>\n      <td>3 ROOM</td>\n      <td>Simplified</td>\n      <td>64.0</td>\n      <td>TAMPINES ST 83</td>\n      <td>290000.0</td>\n      <td>2017-02</td>\n      <td>69 years 09 months</td>\n      <td>1987</td>\n      <td>01 TO 03</td>\n      <td>4</td>\n      <td>849</td>\n    </tr>\n    <tr>\n      <th>4</th>\n      <td>TAMPINES</td>\n      <td>3 ROOM</td>\n      <td>Simplified</td>\n      <td>64.0</td>\n      <td>TAMPINES ST 44</td>\n      <td>292000.0</td>\n      <td>2017-02</td>\n      <td>69 years 05 months</td>\n      <td>1987</td>\n      <td>10 TO 12</td>\n      <td>5</td>\n      <td>462</td>\n    </tr>\n  </tbody>\n</table>\n</div>"
     },
     "execution_count": 3,
     "metadata": {},
     "output_type": "execute_result"
    }
   ],
   "source": [
    "df.head()"
   ],
   "metadata": {
    "collapsed": false,
    "pycharm": {
     "name": "#%%\n"
    }
   }
  },
  {
   "cell_type": "code",
   "execution_count": 4,
   "outputs": [
    {
     "data": {
      "text/plain": "town                   0\nflat_type              0\nflat_model             0\nfloor_area_sqm         0\nstreet_name            0\nresale_price           0\nmonth                  0\nremaining_lease        0\nlease_commence_date    0\nstorey_range           0\n_id                    0\nblock                  0\ndtype: int64"
     },
     "execution_count": 4,
     "metadata": {},
     "output_type": "execute_result"
    }
   ],
   "source": [
    "df.isna().sum()"
   ],
   "metadata": {
    "collapsed": false,
    "pycharm": {
     "name": "#%%\n"
    }
   }
  },
  {
   "cell_type": "code",
   "execution_count": 5,
   "outputs": [],
   "source": [
    "df.drop(['_id'], axis=1, inplace=True)"
   ],
   "metadata": {
    "collapsed": false,
    "pycharm": {
     "name": "#%%\n"
    }
   }
  },
  {
   "cell_type": "code",
   "execution_count": 6,
   "outputs": [],
   "source": [
    "# temporarily drop streetname, lease, block\n",
    "df.drop(['street_name', 'remaining_lease', 'block'], axis=1, inplace=True)"
   ],
   "metadata": {
    "collapsed": false,
    "pycharm": {
     "name": "#%%\n"
    }
   }
  },
  {
   "cell_type": "code",
   "execution_count": 7,
   "outputs": [
    {
     "name": "stdout",
     "output_type": "stream",
     "text": [
      "Total of 26 towns with values ['SERANGOON' 'TAMPINES' 'YISHUN' 'BEDOK' 'TOA PAYOH' 'WOODLANDS'\n",
      " 'ANG MO KIO' 'BISHAN' 'BUKIT BATOK' 'BUKIT MERAH' 'BUKIT PANJANG'\n",
      " 'HOUGANG' 'PUNGGOL' 'BUKIT TIMAH' 'CENTRAL AREA' 'CHOA CHU KANG'\n",
      " 'CLEMENTI' 'GEYLANG' 'JURONG EAST' 'JURONG WEST' 'KALLANG/WHAMPOA'\n",
      " 'MARINE PARADE' 'PASIR RIS' 'QUEENSTOWN' 'SEMBAWANG' 'SENGKANG']\n",
      "\n",
      "Total of 7 types of flats with values ['EXECUTIVE' '3 ROOM' '4 ROOM' '5 ROOM' '2 ROOM' '1 ROOM'\n",
      " 'MULTI-GENERATION']\n",
      "\n",
      "Total of 21 models of flats with values ['Maisonette' 'Simplified' 'Model A' 'New Generation' 'DBSS' 'Improved'\n",
      " 'Premium Apartment' 'Apartment' 'Standard' 'Model A2'\n",
      " 'Model A-Maisonette' 'Type S1' 'Type S2' 'Adjoined flat' 'Terrace'\n",
      " 'Improved-Maisonette' 'Premium Maisonette' 'Multi Generation'\n",
      " 'Premium Apartment Loft' '2-room' '3Gen']\n",
      "\n",
      "['04 TO 06' '10 TO 12' '01 TO 03' '07 TO 09' '13 TO 15' '16 TO 18'\n",
      " '19 TO 21' '22 TO 24' '25 TO 27' '28 TO 30' '31 TO 33' '37 TO 39'\n",
      " '49 TO 51' '46 TO 48' '40 TO 42' '34 TO 36' '43 TO 45']\n"
     ]
    }
   ],
   "source": [
    "# check for any typos in values\n",
    "print(\"Total of {0} towns with values {1}\\n\".format(df.town.nunique(), df.town.unique()))\n",
    "print(\"Total of {0} types of flats with values {1}\\n\".format(df.flat_type.nunique(),df.flat_type.unique()))\n",
    "print(\"Total of {0} models of flats with values {1}\\n\".format(df.flat_model.nunique(),df.flat_model.unique()))\n",
    "print(df.storey_range.unique())"
   ],
   "metadata": {
    "collapsed": false,
    "pycharm": {
     "name": "#%%\n"
    }
   }
  },
  {
   "cell_type": "code",
   "execution_count": 8,
   "outputs": [],
   "source": [
    "# rough exploration with clustering: use town, flat type, model, commencement date, storey range.\n",
    "# town: label encoding (too many features if one-hot)\n",
    "# flat type: label encoding\n",
    "# flat model: label encoding\n",
    "# storey range: label encoding (too many features)\n",
    "# month: label encoding. 2017-02 is encoded as 0"
   ],
   "metadata": {
    "collapsed": false,
    "pycharm": {
     "name": "#%%\n"
    }
   }
  },
  {
   "cell_type": "code",
   "execution_count": 9,
   "outputs": [
    {
     "name": "stdout",
     "output_type": "stream",
     "text": [
      "{'ANG MO KIO': 0, 'BEDOK': 1, 'BISHAN': 2, 'BUKIT BATOK': 3, 'BUKIT MERAH': 4, 'BUKIT PANJANG': 5, 'BUKIT TIMAH': 6, 'CENTRAL AREA': 7, 'CHOA CHU KANG': 8, 'CLEMENTI': 9, 'GEYLANG': 10, 'HOUGANG': 11, 'JURONG EAST': 12, 'JURONG WEST': 13, 'KALLANG/WHAMPOA': 14, 'MARINE PARADE': 15, 'PASIR RIS': 16, 'PUNGGOL': 17, 'QUEENSTOWN': 18, 'SEMBAWANG': 19, 'SENGKANG': 20, 'SERANGOON': 21, 'TAMPINES': 22, 'TOA PAYOH': 23, 'WOODLANDS': 24, 'YISHUN': 25}\n"
     ]
    }
   ],
   "source": [
    "from sklearn import preprocessing\n",
    "le = preprocessing.LabelEncoder()\n",
    "\n",
    "df['town_cat'] = le.fit_transform(df['town'])\n",
    "\n",
    "mapping = dict(zip(le.classes_, range(0, len(le.classes_))))\n",
    "print(mapping)"
   ],
   "metadata": {
    "collapsed": false,
    "pycharm": {
     "name": "#%%\n"
    }
   }
  },
  {
   "cell_type": "code",
   "execution_count": 10,
   "outputs": [
    {
     "name": "stdout",
     "output_type": "stream",
     "text": [
      "{'2-room': 0, '3Gen': 1, 'Adjoined flat': 2, 'Apartment': 3, 'DBSS': 4, 'Improved': 5, 'Improved-Maisonette': 6, 'Maisonette': 7, 'Model A': 8, 'Model A-Maisonette': 9, 'Model A2': 10, 'Multi Generation': 11, 'New Generation': 12, 'Premium Apartment': 13, 'Premium Apartment Loft': 14, 'Premium Maisonette': 15, 'Simplified': 16, 'Standard': 17, 'Terrace': 18, 'Type S1': 19, 'Type S2': 20}\n"
     ]
    }
   ],
   "source": [
    "df['flat_model_cat'] = le.fit_transform(df['flat_model'])\n",
    "\n",
    "mapping = dict(zip(le.classes_, range(0, len(le.classes_))))\n",
    "print(mapping)"
   ],
   "metadata": {
    "collapsed": false,
    "pycharm": {
     "name": "#%%\n"
    }
   }
  },
  {
   "cell_type": "code",
   "execution_count": 11,
   "outputs": [
    {
     "name": "stdout",
     "output_type": "stream",
     "text": [
      "{'01 TO 03': 0, '04 TO 06': 1, '07 TO 09': 2, '10 TO 12': 3, '13 TO 15': 4, '16 TO 18': 5, '19 TO 21': 6, '22 TO 24': 7, '25 TO 27': 8, '28 TO 30': 9, '31 TO 33': 10, '34 TO 36': 11, '37 TO 39': 12, '40 TO 42': 13, '43 TO 45': 14, '46 TO 48': 15, '49 TO 51': 16}\n"
     ]
    }
   ],
   "source": [
    "df['storey_range_cat'] = le.fit_transform(df['storey_range'])\n",
    "\n",
    "mapping = dict(zip(le.classes_, range(0, len(le.classes_))))\n",
    "print(mapping)"
   ],
   "metadata": {
    "collapsed": false,
    "pycharm": {
     "name": "#%%\n"
    }
   }
  },
  {
   "cell_type": "code",
   "execution_count": 12,
   "outputs": [
    {
     "name": "stdout",
     "output_type": "stream",
     "text": [
      "{'1 ROOM': 0, '2 ROOM': 1, '3 ROOM': 2, '4 ROOM': 3, '5 ROOM': 4, 'EXECUTIVE': 5, 'MULTI-GENERATION': 6}\n"
     ]
    }
   ],
   "source": [
    "df['flat_type_cat'] = le.fit_transform(df['flat_type'])\n",
    "\n",
    "mapping = dict(zip(le.classes_, range(0, len(le.classes_))))\n",
    "print(mapping)"
   ],
   "metadata": {
    "collapsed": false,
    "pycharm": {
     "name": "#%%\n"
    }
   }
  },
  {
   "cell_type": "code",
   "execution_count": 13,
   "outputs": [
    {
     "name": "stdout",
     "output_type": "stream",
     "text": [
      "{'2017-02': 0, '2017-03': 1, '2017-04': 2, '2017-05': 3, '2017-06': 4, '2017-07': 5, '2017-08': 6, '2017-09': 7, '2017-10': 8, '2017-11': 9, '2017-12': 10, '2018-01': 11, '2018-02': 12, '2018-03': 13, '2018-04': 14, '2018-05': 15, '2018-06': 16, '2018-07': 17, '2018-08': 18, '2018-09': 19, '2018-10': 20, '2018-11': 21, '2018-12': 22, '2019-01': 23, '2019-02': 24, '2019-03': 25, '2019-04': 26, '2019-05': 27, '2019-06': 28, '2019-07': 29, '2019-08': 30, '2019-09': 31, '2019-10': 32, '2019-11': 33, '2019-12': 34, '2020-01': 35, '2020-02': 36, '2020-03': 37, '2020-04': 38, '2020-05': 39, '2020-06': 40, '2020-07': 41, '2020-08': 42, '2020-09': 43, '2020-10': 44, '2020-11': 45, '2020-12': 46, '2021-01': 47, '2021-02': 48, '2021-03': 49, '2021-04': 50, '2021-05': 51, '2021-06': 52, '2021-07': 53, '2021-08': 54, '2021-09': 55, '2021-10': 56, '2021-11': 57, '2021-12': 58, '2022-01': 59, '2022-02': 60, '2022-03': 61, '2022-04': 62, '2022-05': 63, '2022-06': 64, '2022-07': 65}\n"
     ]
    }
   ],
   "source": [
    "le = preprocessing.LabelEncoder()\n",
    "df['month_encoded'] = le.fit_transform(df['month'])\n",
    "dump(le, filename=\"month_encoder.pkl\")\n",
    "\n",
    "mapping = dict(zip(le.classes_, range(0, len(le.classes_))))\n",
    "print(mapping)"
   ],
   "metadata": {
    "collapsed": false,
    "pycharm": {
     "name": "#%%\n"
    }
   }
  },
  {
   "cell_type": "code",
   "execution_count": 14,
   "outputs": [
    {
     "data": {
      "text/plain": "array([15])"
     },
     "execution_count": 14,
     "metadata": {},
     "output_type": "execute_result"
    }
   ],
   "source": [
    "le.transform([\"2018-05\"])"
   ],
   "metadata": {
    "collapsed": false,
    "pycharm": {
     "name": "#%%\n"
    }
   }
  },
  {
   "cell_type": "code",
   "execution_count": 15,
   "outputs": [
    {
     "name": "stderr",
     "output_type": "stream",
     "text": [
      "/Users/xinyitay/Prodicty/price-prediction/env/lib/python3.9/site-packages/seaborn/distributions.py:2619: FutureWarning: `distplot` is a deprecated function and will be removed in a future version. Please adapt your code to use either `displot` (a figure-level function with similar flexibility) or `histplot` (an axes-level function for histograms).\n",
      "  warnings.warn(msg, FutureWarning)\n"
     ]
    },
    {
     "data": {
      "text/plain": "<Figure size 432x288 with 1 Axes>",
      "image/png": "[encoded data removed]"
     },
     "metadata": {
      "needs_background": "light"
     },
     "output_type": "display_data"
    },
    {
     "name": "stderr",
     "output_type": "stream",
     "text": [
      "/Users/xinyitay/Prodicty/price-prediction/env/lib/python3.9/site-packages/seaborn/distributions.py:2619: FutureWarning: `distplot` is a deprecated function and will be removed in a future version. Please adapt your code to use either `displot` (a figure-level function with similar flexibility) or `histplot` (an axes-level function for histograms).\n",
      "  warnings.warn(msg, FutureWarning)\n"
     ]
    },
    {
     "data": {
      "text/plain": "<Figure size 432x288 with 1 Axes>",
      "image/png": "[encoded data removed]"
     },
     "metadata": {
      "needs_background": "light"
     },
     "output_type": "display_data"
    }
   ],
   "source": [
    "sns.set_style('whitegrid')\n",
    "sns.distplot(df.resale_price)\n",
    "plt.show()\n",
    "\n",
    "df['resale_price_log'] = np.log(df.resale_price)\n",
    "sns.distplot(df.resale_price_log)\n",
    "plt.show()"
   ],
   "metadata": {
    "collapsed": false,
    "pycharm": {
     "name": "#%%\n"
    }
   }
  },
  {
   "cell_type": "code",
   "execution_count": 16,
   "outputs": [
    {
     "data": {
      "text/plain": "<AxesSubplot:>"
     },
     "execution_count": 16,
     "metadata": {},
     "output_type": "execute_result"
    },
    {
     "data": {
      "text/plain": "<Figure size 360x360 with 2 Axes>",
      "image/png": "[encoded data removed]"
     },
     "metadata": {
      "needs_background": "light"
     },
     "output_type": "display_data"
    }
   ],
   "source": [
    "plt.figure(figsize=(5,5))\n",
    "sns.heatmap(df.corr(), annot=True)"
   ],
   "metadata": {
    "collapsed": false,
    "pycharm": {
     "name": "#%%\n"
    }
   }
  },
  {
   "cell_type": "code",
   "execution_count": 17,
   "outputs": [],
   "source": [
    "from sklearn.model_selection import train_test_split\n",
    "from sklearn.metrics import r2_score\n",
    "from sklearn.linear_model import LinearRegression\n",
    "from sklearn.metrics import mean_squared_error"
   ],
   "metadata": {
    "collapsed": false,
    "pycharm": {
     "name": "#%%\n"
    }
   }
  },
  {
   "cell_type": "code",
   "execution_count": 18,
   "outputs": [
    {
     "name": "stdout",
     "output_type": "stream",
     "text": [
      "RMSE:  102265.00821440722\n",
      "R2:  0.6044624768200093\n"
     ]
    }
   ],
   "source": [
    "X = df[['month_encoded','flat_type_cat','flat_model_cat','floor_area_sqm','lease_commence_date','storey_range_cat','town_cat']]\n",
    "y = df.resale_price\n",
    "# y_train = df.resale_price_log\n",
    "\n",
    "X_train, X_test, y_train, y_test = train_test_split(X, y, test_size=0.30, random_state=42)\n",
    "\n",
    "linreg = LinearRegression()\n",
    "linreg.fit(X_train, y_train)\n",
    "\n",
    "lin_preds = linreg.predict(X_test)\n",
    "rmse = mean_squared_error(y_test, lin_preds) ** 0.5\n",
    "acc = r2_score(y_test, lin_preds)\n",
    "print(\"RMSE: \", rmse)\n",
    "print(\"R2: \", acc)"
   ],
   "metadata": {
    "collapsed": false,
    "pycharm": {
     "name": "#%%\n"
    }
   }
  },
  {
   "cell_type": "code",
   "execution_count": 19,
   "outputs": [
    {
     "data": {
      "text/plain": "['model.pkl']"
     },
     "execution_count": 19,
     "metadata": {},
     "output_type": "execute_result"
    }
   ],
   "source": [
    "from joblib import dump\n",
    "\n",
    "# dump the pipeline model\n",
    "dump(linreg, filename=\"model.pkl\")\n"
   ],
   "metadata": {
    "collapsed": false,
    "pycharm": {
     "name": "#%%\n"
    }
   }
  },
  {
   "cell_type": "code",
   "execution_count": 20,
   "outputs": [
    {
     "data": {
      "text/plain": "        month_encoded  flat_type_cat  flat_model_cat  floor_area_sqm  \\\n68715              40              2              12            68.0   \n120211             61              4              17           117.0   \n45646              26              3               8            92.0   \n24263              14              4               4           114.0   \n16400               9              5               7           142.0   \n...               ...            ...             ...             ...   \n92991              50              3               8           104.0   \n111835             57              5               3           147.0   \n101848             53              3               4            92.0   \n33344              19              4               5           119.0   \n115172             59              4               5           112.0   \n\n        lease_commence_date  storey_range_cat  town_cat  \n68715                  1980                 3         1  \n120211                 1975                 8        15  \n45646                  2014                 2        17  \n24263                  2012                 6        23  \n16400                  1999                 1        20  \n...                     ...               ...       ...  \n92991                  1985                 0         3  \n111835                 1995                 1        22  \n101848                 2013                 2        25  \n33344                  1979                 6         8  \n115172                 2015                 3         5  \n\n[39030 rows x 7 columns]",
      "text/html": "<div>\n<style scoped>\n    .dataframe tbody tr th:only-of-type {\n        vertical-align: middle;\n    }\n\n    .dataframe tbody tr th {\n        vertical-align: top;\n    }\n\n    .dataframe thead th {\n        text-align: right;\n    }\n</style>\n<table border=\"1\" class=\"dataframe\">\n  <thead>\n    <tr style=\"text-align: right;\">\n      <th></th>\n      <th>month_encoded</th>\n      <th>flat_type_cat</th>\n      <th>flat_model_cat</th>\n      <th>floor_area_sqm</th>\n      <th>lease_commence_date</th>\n      <th>storey_range_cat</th>\n      <th>town_cat</th>\n    </tr>\n  </thead>\n  <tbody>\n    <tr>\n      <th>68715</th>\n      <td>40</td>\n      <td>2</td>\n      <td>12</td>\n      <td>68.0</td>\n      <td>1980</td>\n      <td>3</td>\n      <td>1</td>\n    </tr>\n    <tr>\n      <th>120211</th>\n      <td>61</td>\n      <td>4</td>\n      <td>17</td>\n      <td>117.0</td>\n      <td>1975</td>\n      <td>8</td>\n      <td>15</td>\n    </tr>\n    <tr>\n      <th>45646</th>\n      <td>26</td>\n      <td>3</td>\n      <td>8</td>\n      <td>92.0</td>\n      <td>2014</td>\n      <td>2</td>\n      <td>17</td>\n    </tr>\n    <tr>\n      <th>24263</th>\n      <td>14</td>\n      <td>4</td>\n      <td>4</td>\n      <td>114.0</td>\n      <td>2012</td>\n      <td>6</td>\n      <td>23</td>\n    </tr>\n    <tr>\n      <th>16400</th>\n      <td>9</td>\n      <td>5</td>\n      <td>7</td>\n      <td>142.0</td>\n      <td>1999</td>\n      <td>1</td>\n      <td>20</td>\n    </tr>\n    <tr>\n      <th>...</th>\n      <td>...</td>\n      <td>...</td>\n      <td>...</td>\n      <td>...</td>\n      <td>...</td>\n      <td>...</td>\n      <td>...</td>\n    </tr>\n    <tr>\n      <th>92991</th>\n      <td>50</td>\n      <td>3</td>\n      <td>8</td>\n      <td>104.0</td>\n      <td>1985</td>\n      <td>0</td>\n      <td>3</td>\n    </tr>\n    <tr>\n      <th>111835</th>\n      <td>57</td>\n      <td>5</td>\n      <td>3</td>\n      <td>147.0</td>\n      <td>1995</td>\n      <td>1</td>\n      <td>22</td>\n    </tr>\n    <tr>\n      <th>101848</th>\n      <td>53</td>\n      <td>3</td>\n      <td>4</td>\n      <td>92.0</td>\n      <td>2013</td>\n      <td>2</td>\n      <td>25</td>\n    </tr>\n    <tr>\n      <th>33344</th>\n      <td>19</td>\n      <td>4</td>\n      <td>5</td>\n      <td>119.0</td>\n      <td>1979</td>\n      <td>6</td>\n      <td>8</td>\n    </tr>\n    <tr>\n      <th>115172</th>\n      <td>59</td>\n      <td>4</td>\n      <td>5</td>\n      <td>112.0</td>\n      <td>2015</td>\n      <td>3</td>\n      <td>5</td>\n    </tr>\n  </tbody>\n</table>\n<p>39030 rows × 7 columns</p>\n</div>"
     },
     "execution_count": 20,
     "metadata": {},
     "output_type": "execute_result"
    }
   ],
   "source": [
    "X_test\n"
   ],
   "metadata": {
    "collapsed": false,
    "pycharm": {
     "name": "#%%\n"
    }
   }
  },
  {
   "cell_type": "code",
   "execution_count": 21,
   "outputs": [],
   "source": [
    "from sklearn.tree import DecisionTreeRegressor\n",
    "from sklearn.neighbors import KNeighborsRegressor\n",
    "from sklearn.svm import SVR\n",
    "from sklearn.ensemble import RandomForestRegressor\n",
    "from sklearn.metrics import r2_score\n",
    "from sklearn.model_selection import train_test_split\n"
   ],
   "metadata": {
    "collapsed": false,
    "pycharm": {
     "name": "#%%\n"
    }
   }
  },
  {
   "cell_type": "code",
   "execution_count": 22,
   "outputs": [
    {
     "name": "stdout",
     "output_type": "stream",
     "text": [
      "0.9533435689047912\n"
     ]
    },
    {
     "data": {
      "text/plain": "['rf.pkl']"
     },
     "execution_count": 22,
     "metadata": {},
     "output_type": "execute_result"
    }
   ],
   "source": [
    "rf = RandomForestRegressor(n_estimators=500, random_state=100)\n",
    "rf.fit(X_train, y_train)\n",
    "\n",
    "preds = rf.predict(X_test)\n",
    "acc = r2_score(y_test, preds)\n",
    "print(acc)\n",
    "dump(rf, filename=\"rf.pkl\")\n"
   ],
   "metadata": {
    "collapsed": false,
    "pycharm": {
     "name": "#%%\n"
    }
   }
  },
  {
   "cell_type": "code",
   "execution_count": 23,
   "outputs": [
    {
     "name": "stdout",
     "output_type": "stream",
     "text": [
      "-0.03207664718311021\n"
     ]
    },
    {
     "data": {
      "text/plain": "['svr.pkl']"
     },
     "execution_count": 23,
     "metadata": {},
     "output_type": "execute_result"
    }
   ],
   "source": [
    "svr = SVR()\n",
    "svr.fit(X_train, y_train)\n",
    "\n",
    "svr_preds = svr.predict(X_test)\n",
    "acc = r2_score(y_test, svr_preds)\n",
    "print(acc)\n",
    "dump(svr, filename=\"svr.pkl\")\n"
   ],
   "metadata": {
    "collapsed": false,
    "pycharm": {
     "name": "#%%\n"
    }
   }
  },
  {
   "cell_type": "code",
   "execution_count": 24,
   "outputs": [
    {
     "name": "stdout",
     "output_type": "stream",
     "text": [
      "0.8416801513698405\n"
     ]
    },
    {
     "data": {
      "text/plain": "['knn.pkl']"
     },
     "execution_count": 24,
     "metadata": {},
     "output_type": "execute_result"
    }
   ],
   "source": [
    "knn = KNeighborsRegressor()\n",
    "knn.fit(X_train, y_train)\n",
    "\n",
    "knn_preds = knn.predict(X_test)\n",
    "acc = r2_score(y_test, knn_preds)\n",
    "print(acc)\n",
    "dump(knn, filename=\"knn.pkl\")"
   ],
   "metadata": {
    "collapsed": false,
    "pycharm": {
     "name": "#%%\n"
    }
   }
  },
  {
   "cell_type": "code",
   "execution_count": null,
   "outputs": [],
   "source": [],
   "metadata": {
    "collapsed": false,
    "pycharm": {
     "name": "#%%\n"
    }
   }
  }
 ],
 "metadata": {
  "kernelspec": {
   "display_name": "Python 3.9.6 64-bit",
   "language": "python",
   "name": "python3"
  },
  "language_info": {
   "codemirror_mode": {
    "name": "ipython",
    "version": 3
   },
   "file_extension": ".py",
   "mimetype": "text/x-python",
   "name": "python",
   "nbconvert_exporter": "python",
   "pygments_lexer": "ipython3",
   "version": "3.9.6"
  },
  "vscode": {
   "interpreter": {
    "hash": "aee8b7b246df8f9039afb4144a1f6fd8d2ca17a180786b69acc140d282b71a49"
   }
  }
 },
 "nbformat": 4,
 "nbformat_minor": 1
}